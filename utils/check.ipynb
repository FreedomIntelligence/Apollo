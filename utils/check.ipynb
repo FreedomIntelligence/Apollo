{
 "cells": [
  {
   "cell_type": "code",
   "execution_count": 12,
   "metadata": {},
   "outputs": [
    {
     "name": "stdout",
     "output_type": "stream",
     "text": [
      "None\n",
      "0\n",
      "<unk>\n",
      "<s>\n"
     ]
    }
   ],
   "source": [
    "from transformers import AutoModelForCausalLM, AutoTokenizer, AutoModel\n",
    "import transformers\n",
    "\n",
    "model_path = '/your_data_path/PMC_LLaMA_7B'\n",
    "tokenizer = transformers.LlamaTokenizer.from_pretrained(model_path)\n",
    "\n",
    "# string = 'hello'\n",
    "# ids= tokenizer.encode(string)\n",
    "# print(ids)\n",
    "# for id in ids:\n",
    "#     print(tokenizer.decode(id))\n",
    "print(tokenizer.pad_token_id)\n",
    "print(tokenizer.eos_token_id)\n",
    "# print(tokenizer.decode(tokenizer.pad_token_id))\n",
    "# print(tokenizer.decode(0))\n",
    "# print(tokenizer.decode(1))\n",
    "\n"
   ]
  }
 ],
 "metadata": {
  "kernelspec": {
   "display_name": "Python 3 (ipykernel)",
   "language": "python",
   "name": "python3"
  },
  "language_info": {
   "codemirror_mode": {
    "name": "ipython",
    "version": 3
   },
   "file_extension": ".py",
   "mimetype": "text/x-python",
   "name": "python",
   "nbconvert_exporter": "python",
   "pygments_lexer": "ipython3",
   "version": "3.10.13"
  }
 },
 "nbformat": 4,
 "nbformat_minor": 4
}
